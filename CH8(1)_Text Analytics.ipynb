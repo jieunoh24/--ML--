{
 "cells": [
  {
   "cell_type": "markdown",
   "id": "7e9aa7e2",
   "metadata": {},
   "source": [
    "### 8.1 텍스트 분석 이해\n",
    "- NLP? 머신이 인간의 언어를 이해하고 해석하는 데 중점             \n",
    "텍스트 분석을 향상하게 하는 기반 기술! 언어 해석을 위한 기계 번역, 질의응답 시스템\n",
    "\n",
    "- 텍스트 분석? (텍스트 마이닝) 비정형 텍스트에서 의미 있는 정보를 추출하는 것에 중점      \n",
    "\n",
    "머신러닝, 언어 이해, 통계 등을 활용해 모델을 수립하고 정보를 추출해 비즈니스 인텔리전스나 예측 분석 등의 분석 작업을 주로 수행  \n",
    "- 텍스트 분석은 비정형 데이터인 텍스트를 분석함을 의미\n",
    "\n",
    "- 비정형 텍스트 데이터를 어떻게 피처 형태로 추출하고, 어떻게 추출된 피처에 의미 있는 값을 부여하는가?\n",
    "\n",
    "- 피처 벡터화(Feature Vectorization) & 피처 추출(Feature Extraction):                \n",
    "텍스트를 word 기반의 다수의 피처로 추출해 단어 빈도수와 같은 숫자값을 부여해 벡터값으로 표현 가능하게 텍스트 변환하는 작업\n",
    "\n",
    "- BOW(Bag of Words)와 Word2Vec 방법 두 개중 **BOW** 활용\n",
    "    \n",
    "- 텍스트 분석 수행 프로세스\n",
    " - 텍스트 사전 준비작업(텍스트 전처리): 텍스트를 피처로 만들기 전에 클렌징, 대/소문자 변경, 특수문자 삭제 등의 클렌징 작업 // 단어(word) 등의 토큰화 작업 // 의미 없는 단어(Stop word) 제거 작업 // 어근 추출(Stemming/Lemmatization) 등의 텍스트 정규화 작업 수행을 통칭\n",
    "\n",
    " - 피처 벡터화/추출: 1번으로 가공된 텍스트에서 피처 추출, 벡터 값을 할당한다. BOW, Word2Vec 이 있고, BOW는 Count 기반과 TF-IDF 기반 벡터화가 있다.\n",
    "\n",
    " - ML 모델 수립 및 학습/예측/평가: 2된 데이터 세트에 ML 모델을 적용해 학습/예측/평가 수행\n"
   ]
  },
  {
   "cell_type": "markdown",
   "id": "dbf461f5",
   "metadata": {},
   "source": [
    "### 8.2 텍스트 사전 준비 작업(텍스트 전처리) - 텍스트 정규화\n",
    "- 텍스트 자체를 바로 피처로 만들 수 없고, 사전에 텍스트를 가공하는 준비 작업이 필요\n",
    "\n",
    "- 텍스트 정규화는 텍스트를 머신러닝 알고리즘이나 NLP 어플리케이션에 입력 데이터하기 위해 사전 작업을 수행하는 것을 의미한다. 매우 중요!\n",
    "\n",
    " >클렌징(Cleasning)\n",
    " >토큰화(Tokenization  \n",
    " >필터링/스톱 워드 제거/철자 수정\n",
    " >Stemming\n",
    " >Lemmatization\n",
    "\n",
    "NLTK 패키지를 이용해 실습해보겠습니다.\n",
    "\n",
    "\n",
    "- 클렌징     \n",
    "불필요한 문자, 기호 등을 사전에 제거하는 작업 / HTML, XML 태그나 특정 기호 등을 사전에 제거\n",
    "\n",
    "\n",
    "- 텍스트 토큰화      \n",
    "문서에서 문장을 분리하는 문장 토큰화 & 문장에서 단어를 분리하는 단어 토큰화\n",
    "\n",
    "\n",
    "- 문장 토큰화(sentence tokenization): 문장의 마침표, 개행문자 등 문장의 마지막을 뜻하는 기호에 따라 분리하는 것이 일반적임. 정규 표현식에 따른 문장 토큰화도 가능 !\n",
    "\n",
    "- 3개의 문장으로 이루어진 텍스트를 문장으로 분리"
   ]
  },
  {
   "cell_type": "code",
   "execution_count": 1,
   "id": "36f66de2",
   "metadata": {},
   "outputs": [
    {
     "name": "stderr",
     "output_type": "stream",
     "text": [
      "[nltk_data] Downloading package punkt to C:\\Users\\JIEUN\n",
      "[nltk_data]     OH\\AppData\\Roaming\\nltk_data...\n",
      "[nltk_data]   Unzipping tokenizers\\punkt.zip.\n"
     ]
    },
    {
     "name": "stdout",
     "output_type": "stream",
     "text": [
      "<class 'list'> 3\n",
      "['The Matrix is everywhere its all around us, here even in this room.', 'You can see it out your window or on your television.', 'You feel it when you go to work, or go to church or pay your taxes.']\n"
     ]
    }
   ],
   "source": [
    "from nltk import sent_tokenize\n",
    "\n",
    "import nltk\n",
    "nltk.download('punkt')\n",
    "\n",
    "text_sample = 'The Matrix is everywhere its all around us, here even in this room. \\\n",
    "               You can see it out your window or on your television. \\\n",
    "               You feel it when you go to work, or go to church or pay your taxes.'\n",
    "sentences = sent_tokenize(text=text_sample)\n",
    "print(type(sentences),len(sentences))\n",
    "print(sentences)"
   ]
  },
  {
   "cell_type": "markdown",
   "id": "be05cf7a",
   "metadata": {},
   "source": [
    "- 단어 토큰화(Word Tokenization): 문장을 단어로 토큰화. 공백, 콤마, 마침표, 개행문자 등으로 분리하지만 정규 표현식을 이용해 다양한 유형으로 분리할 수 있음!\n",
    "\n",
    "- BOW와 같이 단어의 순서가 중요하지 않은 경우 문장이 아닌 단어 토큰화만 사용해도 충분"
   ]
  },
  {
   "cell_type": "code",
   "execution_count": 2,
   "id": "250d5435",
   "metadata": {},
   "outputs": [
    {
     "name": "stdout",
     "output_type": "stream",
     "text": [
      "<class 'list'> 15\n",
      "['The', 'Matrix', 'is', 'everywhere', 'its', 'all', 'around', 'us', ',', 'here', 'even', 'in', 'this', 'room', '.']\n"
     ]
    }
   ],
   "source": [
    "from nltk import word_tokenize\n",
    "\n",
    "sentence = \"The Matrix is everywhere its all around us, here even in this room.\"\n",
    "words = word_tokenize(sentence)\n",
    "print(type(words), len(words))\n",
    "print(words)"
   ]
  },
  {
   "cell_type": "code",
   "execution_count": 3,
   "id": "9b186f4c",
   "metadata": {},
   "outputs": [
    {
     "name": "stdout",
     "output_type": "stream",
     "text": [
      "<class 'list'> 3\n",
      "[['The', 'Matrix', 'is', 'everywhere', 'its', 'all', 'around', 'us', ',', 'here', 'even', 'in', 'this', 'room', '.'], ['You', 'can', 'see', 'it', 'out', 'your', 'window', 'or', 'on', 'your', 'television', '.'], ['You', 'feel', 'it', 'when', 'you', 'go', 'to', 'work', ',', 'or', 'go', 'to', 'church', 'or', 'pay', 'your', 'taxes', '.']]\n"
     ]
    }
   ],
   "source": [
    "from nltk import word_tokenize, sent_tokenize\n",
    "\n",
    "#여러개의 문장으로 된 입력 데이터를 문장별로 단어 토큰화 만드는 함수 생성\n",
    "def tokenize_text(text):\n",
    "    \n",
    "    # 문장별로 분리 토큰\n",
    "    sentences = sent_tokenize(text)\n",
    "    # 분리된 문장별 단어 토큰화\n",
    "    word_tokens = [word_tokenize(sentence) for sentence in sentences]\n",
    "    return word_tokens\n",
    "\n",
    "#여러 문장들에 대해 문장별 단어 토큰화 수행. \n",
    "word_tokens = tokenize_text(text_sample)\n",
    "print(type(word_tokens),len(word_tokens))\n",
    "print(word_tokens)"
   ]
  },
  {
   "cell_type": "markdown",
   "id": "d9e8aed4",
   "metadata": {},
   "source": [
    "#### Stopwords 제거\n",
    "- 스톱워드: 분석에 큰 의미가 없는 단어 / is, the, a, will -\n",
    "\n",
    "- 스톱워드는 문법상 빈번하게 나타나 사전에 제거하지 않으면 중요 단어로 인지될 수 있다.\n",
    "\n",
    "- NLTK의 stopwords 목록을 내려 받는다. 언어별로 이러한 스톱워드가 목록화되어 있음"
   ]
  },
  {
   "cell_type": "code",
   "execution_count": 4,
   "id": "afcd3246",
   "metadata": {},
   "outputs": [
    {
     "name": "stderr",
     "output_type": "stream",
     "text": [
      "[nltk_data] Downloading package stopwords to C:\\Users\\JIEUN\n",
      "[nltk_data]     OH\\AppData\\Roaming\\nltk_data...\n",
      "[nltk_data]   Unzipping corpora\\stopwords.zip.\n"
     ]
    },
    {
     "name": "stdout",
     "output_type": "stream",
     "text": [
      "영어 stop words 갯수: 179\n",
      "['i', 'me', 'my', 'myself', 'we', 'our', 'ours', 'ourselves', 'you', \"you're\", \"you've\", \"you'll\", \"you'd\", 'your', 'yours', 'yourself', 'yourselves', 'he', 'him', 'his']\n"
     ]
    }
   ],
   "source": [
    "import nltk\n",
    "nltk.download('stopwords')\n",
    "print('영어 stop words 갯수:',len(nltk.corpus.stopwords.words('english')))\n",
    "print(nltk.corpus.stopwords.words('english')[:20])"
   ]
  },
  {
   "cell_type": "code",
   "execution_count": 5,
   "id": "ce1ebbdc",
   "metadata": {},
   "outputs": [
    {
     "name": "stdout",
     "output_type": "stream",
     "text": [
      "[['matrix', 'everywhere', 'around', 'us', ',', 'even', 'room', '.'], ['see', 'window', 'television', '.'], ['feel', 'go', 'work', ',', 'go', 'church', 'pay', 'taxes', '.']]\n"
     ]
    }
   ],
   "source": [
    "import nltk\n",
    "\n",
    "stopwords = nltk.corpus.stopwords.words('english')\n",
    "all_tokens = []\n",
    "# 위 예제의 3개의 문장별로 얻은 word_tokens list 에 대해 stop word 제거 Loop\n",
    "for sentence in word_tokens:\n",
    "    filtered_words=[]\n",
    "    # 개별 문장별로 tokenize된 sentence list에 대해 stop word 제거 Loop\n",
    "    for word in sentence:\n",
    "        #소문자로 모두 변환합니다. \n",
    "        word = word.lower()\n",
    "        # tokenize 된 개별 word가 stop words 들의 단어에 포함되지 않으면 word_tokens에 추가\n",
    "        if word not in stopwords:\n",
    "            filtered_words.append(word)\n",
    "    all_tokens.append(filtered_words)\n",
    "    \n",
    "print(all_tokens)"
   ]
  },
  {
   "cell_type": "markdown",
   "id": "aaf17ec5",
   "metadata": {},
   "source": [
    "#### Stemming과 Lemmatization\n",
    "문법에 따라 다양하게 변하는 단어의 원형을 찾아줍니다\n",
    "\n",
    "\n",
    "- Stemming: 원형 단어로 변환 시 일반적인 방법을 적용하거나 더 단순화된 방법을 적용해 원래 단어에서 일부 철자가 훼손된 어근 단어를 추출\n",
    "\n",
    "- Lemmatization: 품사와 같은 문법적인 요소와 더 의미적인 부분을 감안해 정확한 철자로 된 어근 단어를 찾아줌 > 오랜 시간 필요\n",
    "\n",
    "- NLTK에서 Stemmer(Porter, Lancaster, Snowball Stemmer) // Lemmatization(WordNetLemmatizer) 제공"
   ]
  },
  {
   "cell_type": "code",
   "execution_count": 6,
   "id": "b914c311",
   "metadata": {},
   "outputs": [
    {
     "name": "stdout",
     "output_type": "stream",
     "text": [
      "work work work\n",
      "amus amus amus\n",
      "happy happiest\n",
      "fant fanciest\n"
     ]
    }
   ],
   "source": [
    "from nltk.stem import LancasterStemmer\n",
    "stemmer = LancasterStemmer()\n",
    "\n",
    "print(stemmer.stem('working'),stemmer.stem('works'),stemmer.stem('worked'))\n",
    "print(stemmer.stem('amusing'),stemmer.stem('amuses'),stemmer.stem('amused'))\n",
    "print(stemmer.stem('happier'),stemmer.stem('happiest'))\n",
    "print(stemmer.stem('fancier'),stemmer.stem('fanciest'))"
   ]
  },
  {
   "cell_type": "code",
   "execution_count": 7,
   "id": "2181cb86",
   "metadata": {},
   "outputs": [
    {
     "name": "stderr",
     "output_type": "stream",
     "text": [
      "[nltk_data] Downloading package wordnet to C:\\Users\\JIEUN\n",
      "[nltk_data]     OH\\AppData\\Roaming\\nltk_data...\n"
     ]
    },
    {
     "name": "stdout",
     "output_type": "stream",
     "text": [
      "amuse amuse amuse\n",
      "happy happy\n",
      "fancy fancy\n"
     ]
    }
   ],
   "source": [
    "from nltk.stem import WordNetLemmatizer\n",
    "\n",
    "import nltk\n",
    "nltk.download('wordnet')\n",
    "\n",
    "lemma = WordNetLemmatizer()\n",
    "print(lemma.lemmatize('amusing','v'),lemma.lemmatize('amuses','v'),lemma.lemmatize('amused','v'))\n",
    "print(lemma.lemmatize('happier','a'),lemma.lemmatize('happiest','a'))\n",
    "print(lemma.lemmatize('fancier','a'),lemma.lemmatize('fanciest','a'))"
   ]
  },
  {
   "cell_type": "markdown",
   "id": "6c8f04c0",
   "metadata": {},
   "source": [
    "### 8.3 Bag of Words – BOW\n",
    "문서가 가지는 모든 단어를 문맥이나 순서를 무시하고 일괄적으로 단어에 대해 빈도 값을 부여해 피처 값을 추출하는 모델로, 문서 내의 모든 단어를 한번에 봉투에 넣고 흔들어 섞는 것과 같음.    \n",
    "\n",
    "#### BOW 모델\n",
    "\n",
    "- 장점     \n",
    "쉽고 빠른 구축: 단순히 단어 발생 횟수에 기반하지만 문서의 특징을 잘 나타낸다\n",
    "\n",
    "- 단점       \n",
    "  - 문맥 의미(Semantic Context) 반영 부족: 단어의 순서를 고려하지 않기 때문에 문맥적인 의미가 무시됨. 보완을 위해 n_gram 기법을 활용할 수 있지만 제한적이기 때문에 문맥적인 해석 처리 불가         \n",
    "\n",
    "  - 희소 행렬 문제(희소성, 희소 행렬): BOW로 피처 벡터화를 수행하면 희소 행렬 데이터 세트가 만들어지기 쉬움. 매우 많은 단어가 칼럼으로 만들어지고 같은 단어가 문서마다 나타나지 않는 경우가 훨씬 많음. 대부분의 데이터가 0으로 채워지고, 이를 희소 행렬이라고 한다. 반대로 0이 아닌 의미 있는 값으로 채워지는 행렬을 밀집 행렬이라고 함. 희소 행렬은 ML 알고리즘 수행 시간과 예측 성능을 떨어뜨리기 떄문에 이를 위한 특별한 기법이 마련돼야 함         \n",
    "  \n",
    "#### BOW 피처 벡터화\n",
    "머신러닝 알고리즘은 숫자형 피처를 데이터로 입력 받아 동작하기 때문에 텍스트를 특정 의미를 가지는 숫자형 값인 벡터로 변환해야 한다. 피처 벡터화 수행!\n",
    "\n",
    "\n",
    "* BOW 모델에서 피처 벡터화를 수행하는 두가지 방식\n",
    "- 카운트 기반 벡터화      \n",
    "\n",
    "단어에 피처 값을 부여할 때 각 문서에서 해당 언어가 나타나는 횟수(count)를 부여하는 경우 카운트 값이 높을수록 중요한 단어로 인식되지만, 언어의 특성상 자주 사용되는 \n",
    "단어까지 중요하게 인식될 수 있어서 개선한 모델이 TF-IDF\n",
    "\n",
    "- TF-IDF      \n",
    "\n",
    "개별 문서에서 자주 나타나는 단어에 높은 가중치를 주되, 모든 문서에서 자주 나타나는 단어에는 패널티를 주는 방식으로 값 부여 > 가중치의 균형을 맞춘다. \n",
    "문서마다 텍스트가 길고, 문서의 개수가 많은 경우엔 TF-IDF 방식을 사용하는 것이 \n",
    "더 좋은 예측 성능을 보장\n",
    "\n",
    "\n",
    "#### 사이킷런 count, TF-IDF 구현: CountVectorizer, TfidfVectorizer\n",
    "- CountVectorizer      \n",
    "피처 벡터화 + 소문자 일괄 변환, 토큰화, 스톱워드 필터링 등의 전처리\n",
    "\n",
    "- fit 과 transform으로 피처 벡터화된 객체 반환\n",
    "\n",
    "1.영어의 경우 모든 문자 소문자로 변환 등의 전처리 수행     \n",
    "2.단어 기준 n_gram_range를 반영해 각 단어 토큰화      \n",
    "3.텍스트 정규화 수행    \n",
    "\n",
    "\n",
    "#### BOW 벡터화를 위한 희소 행렬\n",
    "CountVectorizer, TfidfVectorizer로 텍스트를 피처 단위로 벡터화해 변환하고 CSR 형태의 희소 행렬 반환               \n",
    "\n",
    "모든 문서에 있는 단어를 추출해 피처로 벡터화하는 방법은 필연적으로 많은 피처 칼럼을 만들 수 밖에 없고, 만들어진 대규모 행렬의 대부분은 0 값을 가진다. 이를 희소 행렬이라고 하고, BOW 형태를 가진 언어 모델의 피처 벡터화는 대부분 희소 행렬                    \n",
    "\n",
    "희소행렬은 너무 많은 불필요한 0값이 메모리 공간에 할당되어 공간이 많이 필요하고, 액세스 시간이 오래 걸린다. 이러한 희소 행렬을 물리적으로 적은 메모리 공간을 차지하도록 변환하기 위해 COO, CSR 형식을 이용한다. 보통은 CSR의 저장, 계산 수행 능력이 더 뛰어나기 때문에 많이 사용"
   ]
  },
  {
   "cell_type": "markdown",
   "id": "b078db3f",
   "metadata": {},
   "source": [
    "\n",
    "#### 희소행렬 - COO 형식\n",
    "- COO(Coordinate, 좌표) 형식: 0이 아닌 데이터만 별도의 데이터 배열에 저장하고, 그 데이터가 가리키는 행과 열의 위치를 별도의 배열로 저장하는 방식 \n",
    "\n",
    "\n",
    "- 희소 행렬 반환을 위해 주로 Scipy를 이용, Scipy의 sparse 패키지는 희소 행렬 변환을 위한 다양한 모듈을 제공한다."
   ]
  },
  {
   "cell_type": "code",
   "execution_count": 8,
   "id": "c4311b5f",
   "metadata": {},
   "outputs": [],
   "source": [
    "import numpy as np\n",
    "\n",
    "dense = np.array( [ [ 3, 0, 1 ], [0, 2, 0 ] ] )"
   ]
  },
  {
   "cell_type": "code",
   "execution_count": 9,
   "id": "3c76f081",
   "metadata": {},
   "outputs": [],
   "source": [
    "from scipy import sparse\n",
    "\n",
    "# 0 이 아닌 데이터 추출\n",
    "data = np.array([3,1,2])\n",
    "\n",
    "# 행 위치와 열 위치를 각각 array로 생성 \n",
    "row_pos = np.array([0,0,1])\n",
    "col_pos = np.array([0,2,1])\n",
    "\n",
    "# sparse 패키지의 coo_matrix를 이용하여 COO 형식으로 희소 행렬 생성\n",
    "sparse_coo = sparse.coo_matrix((data, (row_pos,col_pos)))"
   ]
  },
  {
   "cell_type": "code",
   "execution_count": 10,
   "id": "49776963",
   "metadata": {},
   "outputs": [
    {
     "data": {
      "text/plain": [
       "array([[3, 0, 1],\n",
       "       [0, 2, 0]])"
      ]
     },
     "execution_count": 10,
     "metadata": {},
     "output_type": "execute_result"
    }
   ],
   "source": [
    "sparse_coo.toarray()"
   ]
  },
  {
   "cell_type": "markdown",
   "id": "7eeb991f",
   "metadata": {},
   "source": [
    "#### 희소 행렬 – CSR 형식\n",
    "CSR(Compressed Spare Row) 형식: COO 형식의 행과 열의 위치를 나타내기 위해 반복적인 위치 데이터를 사용해야 하는 문제점을 해결한 방식"
   ]
  },
  {
   "cell_type": "code",
   "execution_count": 11,
   "id": "665ea7d7",
   "metadata": {},
   "outputs": [
    {
     "name": "stdout",
     "output_type": "stream",
     "text": [
      "COO 변환된 데이터가 제대로 되었는지 다시 Dense로 출력 확인\n",
      "[[0 0 1 0 0 5]\n",
      " [1 4 0 3 2 5]\n",
      " [0 6 0 3 0 0]\n",
      " [2 0 0 0 0 0]\n",
      " [0 0 0 7 0 8]\n",
      " [1 0 0 0 0 0]]\n",
      "CSR 변환된 데이터가 제대로 되었는지 다시 Dense로 출력 확인\n",
      "[[0 0 1 0 0 5]\n",
      " [1 4 0 3 2 5]\n",
      " [0 6 0 3 0 0]\n",
      " [2 0 0 0 0 0]\n",
      " [0 0 0 7 0 8]\n",
      " [1 0 0 0 0 0]]\n"
     ]
    }
   ],
   "source": [
    "from scipy import sparse\n",
    "\n",
    "dense2 = np.array([[0,0,1,0,0,5],\n",
    "             [1,4,0,3,2,5],\n",
    "             [0,6,0,3,0,0],\n",
    "             [2,0,0,0,0,0],\n",
    "             [0,0,0,7,0,8],\n",
    "             [1,0,0,0,0,0]])\n",
    "\n",
    "# 0 이 아닌 데이터 추출\n",
    "data2 = np.array([1, 5, 1, 4, 3, 2, 5, 6, 3, 2, 7, 8, 1])\n",
    "\n",
    "# 행 위치와 열 위치를 각각 array로 생성 \n",
    "row_pos = np.array([0, 0, 1, 1, 1, 1, 1, 2, 2, 3, 4, 4, 5])\n",
    "col_pos = np.array([2, 5, 0, 1, 3, 4, 5, 1, 3, 0, 3, 5, 0])\n",
    "\n",
    "# COO 형식으로 변환 \n",
    "sparse_coo = sparse.coo_matrix((data2, (row_pos,col_pos)))\n",
    "\n",
    "# 행 위치 배열의 고유한 값들의 시작 위치 인덱스를 배열로 생성\n",
    "row_pos_ind = np.array([0, 2, 7, 9, 10, 12, 13])\n",
    "\n",
    "# CSR 형식으로 변환 \n",
    "sparse_csr = sparse.csr_matrix((data2, col_pos, row_pos_ind))\n",
    "\n",
    "print('COO 변환된 데이터가 제대로 되었는지 다시 Dense로 출력 확인')\n",
    "print(sparse_coo.toarray())\n",
    "print('CSR 변환된 데이터가 제대로 되었는지 다시 Dense로 출력 확인')\n",
    "print(sparse_csr.toarray())"
   ]
  },
  {
   "cell_type": "code",
   "execution_count": 12,
   "id": "8d07b5c2",
   "metadata": {},
   "outputs": [],
   "source": [
    "dense3 = np.array([[0,0,1,0,0,5],\n",
    "             [1,4,0,3,2,5],\n",
    "             [0,6,0,3,0,0],\n",
    "             [2,0,0,0,0,0],\n",
    "             [0,0,0,7,0,8],\n",
    "             [1,0,0,0,0,0]])\n",
    "\n",
    "coo = sparse.coo_matrix(dense3)\n",
    "csr = sparse.csr_matrix(dense3)"
   ]
  }
 ],
 "metadata": {
  "kernelspec": {
   "display_name": "Python 3",
   "language": "python",
   "name": "python3"
  },
  "language_info": {
   "codemirror_mode": {
    "name": "ipython",
    "version": 3
   },
   "file_extension": ".py",
   "mimetype": "text/x-python",
   "name": "python",
   "nbconvert_exporter": "python",
   "pygments_lexer": "ipython3",
   "version": "3.8.8"
  }
 },
 "nbformat": 4,
 "nbformat_minor": 5
}
