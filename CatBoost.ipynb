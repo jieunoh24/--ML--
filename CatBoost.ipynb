{
  "nbformat": 4,
  "nbformat_minor": 0,
  "metadata": {
    "colab": {
      "provenance": [],
      "collapsed_sections": []
    },
    "kernelspec": {
      "name": "python3",
      "display_name": "Python 3"
    },
    "language_info": {
      "name": "python"
    }
  },
  "cells": [
    {
      "cell_type": "markdown",
      "source": [
        "## **Import libraries**"
      ],
      "metadata": {
        "id": "wa7RI06JPS7q"
      }
    },
    {
      "cell_type": "code",
      "source": [
        "# 구글 드라이브 어마운트\n",
        "from google.colab import drive\n",
        "drive.mount('/content/drive')"
      ],
      "metadata": {
        "id": "f9RDIxJX4yy0",
        "colab": {
          "base_uri": "https://localhost:8080/"
        },
        "outputId": "322eb006-ab5d-483b-e4d3-534258e71c12"
      },
      "execution_count": 46,
      "outputs": [
        {
          "output_type": "stream",
          "name": "stdout",
          "text": [
            "Drive already mounted at /content/drive; to attempt to forcibly remount, call drive.mount(\"/content/drive\", force_remount=True).\n"
          ]
        }
      ]
    },
    {
      "cell_type": "code",
      "source": [
        "!pip install catboost\n",
        "!pip install category_encoders"
      ],
      "metadata": {
        "id": "urSq0FJdFTYn",
        "colab": {
          "base_uri": "https://localhost:8080/"
        },
        "outputId": "2d4fa21d-d48e-4281-881d-086bb204bbb5"
      },
      "execution_count": 47,
      "outputs": [
        {
          "output_type": "stream",
          "name": "stdout",
          "text": [
            "Looking in indexes: https://pypi.org/simple, https://us-python.pkg.dev/colab-wheels/public/simple/\n",
            "Requirement already satisfied: catboost in /usr/local/lib/python3.7/dist-packages (1.1)\n",
            "Requirement already satisfied: graphviz in /usr/local/lib/python3.7/dist-packages (from catboost) (0.10.1)\n",
            "Requirement already satisfied: pandas>=0.24.0 in /usr/local/lib/python3.7/dist-packages (from catboost) (1.3.5)\n",
            "Requirement already satisfied: numpy>=1.16.0 in /usr/local/lib/python3.7/dist-packages (from catboost) (1.21.6)\n",
            "Requirement already satisfied: matplotlib in /usr/local/lib/python3.7/dist-packages (from catboost) (3.2.2)\n",
            "Requirement already satisfied: six in /usr/local/lib/python3.7/dist-packages (from catboost) (1.15.0)\n",
            "Requirement already satisfied: plotly in /usr/local/lib/python3.7/dist-packages (from catboost) (5.5.0)\n",
            "Requirement already satisfied: scipy in /usr/local/lib/python3.7/dist-packages (from catboost) (1.7.3)\n",
            "Requirement already satisfied: pytz>=2017.3 in /usr/local/lib/python3.7/dist-packages (from pandas>=0.24.0->catboost) (2022.2.1)\n",
            "Requirement already satisfied: python-dateutil>=2.7.3 in /usr/local/lib/python3.7/dist-packages (from pandas>=0.24.0->catboost) (2.8.2)\n",
            "Requirement already satisfied: cycler>=0.10 in /usr/local/lib/python3.7/dist-packages (from matplotlib->catboost) (0.11.0)\n",
            "Requirement already satisfied: kiwisolver>=1.0.1 in /usr/local/lib/python3.7/dist-packages (from matplotlib->catboost) (1.4.4)\n",
            "Requirement already satisfied: pyparsing!=2.0.4,!=2.1.2,!=2.1.6,>=2.0.1 in /usr/local/lib/python3.7/dist-packages (from matplotlib->catboost) (3.0.9)\n",
            "Requirement already satisfied: typing-extensions in /usr/local/lib/python3.7/dist-packages (from kiwisolver>=1.0.1->matplotlib->catboost) (4.1.1)\n",
            "Requirement already satisfied: tenacity>=6.2.0 in /usr/local/lib/python3.7/dist-packages (from plotly->catboost) (8.0.1)\n",
            "Looking in indexes: https://pypi.org/simple, https://us-python.pkg.dev/colab-wheels/public/simple/\n",
            "Requirement already satisfied: category_encoders in /usr/local/lib/python3.7/dist-packages (2.5.0)\n",
            "Requirement already satisfied: numpy>=1.14.0 in /usr/local/lib/python3.7/dist-packages (from category_encoders) (1.21.6)\n",
            "Requirement already satisfied: scipy>=1.0.0 in /usr/local/lib/python3.7/dist-packages (from category_encoders) (1.7.3)\n",
            "Requirement already satisfied: pandas>=1.0.5 in /usr/local/lib/python3.7/dist-packages (from category_encoders) (1.3.5)\n",
            "Requirement already satisfied: scikit-learn>=0.20.0 in /usr/local/lib/python3.7/dist-packages (from category_encoders) (1.0.2)\n",
            "Requirement already satisfied: statsmodels>=0.9.0 in /usr/local/lib/python3.7/dist-packages (from category_encoders) (0.12.2)\n",
            "Requirement already satisfied: patsy>=0.5.1 in /usr/local/lib/python3.7/dist-packages (from category_encoders) (0.5.2)\n",
            "Requirement already satisfied: pytz>=2017.3 in /usr/local/lib/python3.7/dist-packages (from pandas>=1.0.5->category_encoders) (2022.2.1)\n",
            "Requirement already satisfied: python-dateutil>=2.7.3 in /usr/local/lib/python3.7/dist-packages (from pandas>=1.0.5->category_encoders) (2.8.2)\n",
            "Requirement already satisfied: six in /usr/local/lib/python3.7/dist-packages (from patsy>=0.5.1->category_encoders) (1.15.0)\n",
            "Requirement already satisfied: joblib>=0.11 in /usr/local/lib/python3.7/dist-packages (from scikit-learn>=0.20.0->category_encoders) (1.1.0)\n",
            "Requirement already satisfied: threadpoolctl>=2.0.0 in /usr/local/lib/python3.7/dist-packages (from scikit-learn>=0.20.0->category_encoders) (3.1.0)\n"
          ]
        }
      ]
    },
    {
      "cell_type": "code",
      "execution_count": 63,
      "metadata": {
        "id": "_rDL8DMI4on4"
      },
      "outputs": [],
      "source": [
        "# import libraries\n",
        "import numpy as np \n",
        "import pandas as pd \n",
        "import matplotlib.pyplot as plt\n",
        "%matplotlib inline\n",
        "import seaborn as sns\n",
        "import io\n",
        "import warnings\n",
        "warnings.filterwarnings('ignore')\n",
        "plt.rcParams['font.family'] = 'NanumGothic' #matplotlib 한글 깨짐 방지\n",
        "\n",
        "from scipy import stats\n",
        "from scipy.stats import norm, skew\n",
        "\n",
        "from category_encoders.ordinal import OrdinalEncoder\n",
        "\n",
        "from sklearn.model_selection import KFold, StratifiedKFold, train_test_split, GridSearchCV\n",
        "from sklearn.metrics import log_loss\n",
        "from sklearn.preprocessing import OneHotEncoder\n",
        "\n",
        "from catboost import CatBoostClassifier, Pool"
      ]
    },
    {
      "cell_type": "code",
      "source": [
        "# 나눔 폰트 설치\n",
        "!sudo apt-get install -y fonts-nanum\n",
        "!sudo fc-cache -fv\n",
        "!rm ~/.cache/matplotlib -rf"
      ],
      "metadata": {
        "id": "-LQhHBtM41rC",
        "colab": {
          "base_uri": "https://localhost:8080/"
        },
        "outputId": "6416f708-5514-4911-9498-ddd0909a0d44"
      },
      "execution_count": 49,
      "outputs": [
        {
          "output_type": "stream",
          "name": "stdout",
          "text": [
            "Reading package lists... Done\n",
            "Building dependency tree       \n",
            "Reading state information... Done\n",
            "fonts-nanum is already the newest version (20170925-1).\n",
            "The following package was automatically installed and is no longer required:\n",
            "  libnvidia-common-460\n",
            "Use 'sudo apt autoremove' to remove it.\n",
            "0 upgraded, 0 newly installed, 0 to remove and 20 not upgraded.\n",
            "/usr/share/fonts: caching, new cache contents: 0 fonts, 1 dirs\n",
            "/usr/share/fonts/truetype: caching, new cache contents: 0 fonts, 3 dirs\n",
            "/usr/share/fonts/truetype/humor-sans: caching, new cache contents: 1 fonts, 0 dirs\n",
            "/usr/share/fonts/truetype/liberation: caching, new cache contents: 16 fonts, 0 dirs\n",
            "/usr/share/fonts/truetype/nanum: caching, new cache contents: 10 fonts, 0 dirs\n",
            "/usr/local/share/fonts: caching, new cache contents: 0 fonts, 0 dirs\n",
            "/root/.local/share/fonts: skipping, no such directory\n",
            "/root/.fonts: skipping, no such directory\n",
            "/var/cache/fontconfig: cleaning cache directory\n",
            "/root/.cache/fontconfig: not cleaning non-existent cache directory\n",
            "/root/.fontconfig: not cleaning non-existent cache directory\n",
            "fc-cache: succeeded\n"
          ]
        }
      ]
    },
    {
      "cell_type": "markdown",
      "source": [
        "## **Load Preprocessed Data**"
      ],
      "metadata": {
        "id": "7n6MghHDPaPD"
      }
    },
    {
      "cell_type": "code",
      "source": [
        "train = pd.read_csv('/content/drive/MyDrive/ESAA 2학기 /프로젝트(1)/데이터/train_1005_4.csv')\n",
        "test = pd.read_csv('/content/drive/MyDrive/ESAA 2학기 /프로젝트(1)/데이터/test_1005_4.csv')"
      ],
      "metadata": {
        "id": "1_ke10BoELrv"
      },
      "execution_count": 80,
      "outputs": []
    },
    {
      "cell_type": "code",
      "source": [
        "train.isnull().sum()"
      ],
      "metadata": {
        "colab": {
          "base_uri": "https://localhost:8080/"
        },
        "id": "zNq5J3_OFTES",
        "outputId": "07f662b5-0ff5-4240-9f8a-64b6c70dd708"
      },
      "execution_count": 65,
      "outputs": [
        {
          "output_type": "execute_result",
          "data": {
            "text/plain": [
              "gender             0\n",
              "car                0\n",
              "reality            0\n",
              "child_num          0\n",
              "income_total       0\n",
              "income_type        0\n",
              "edu_type           0\n",
              "family_type        0\n",
              "house_type         0\n",
              "work_phone         0\n",
              "phone              0\n",
              "email              0\n",
              "occyp_type         0\n",
              "begin_month        0\n",
              "credit             0\n",
              "YEARS_EMPLOYED     0\n",
              "MONTHS_EMPLOYED    0\n",
              "WEEKS_EMPLOYED     0\n",
              "age                0\n",
              "per_income         0\n",
              "age_work           0\n",
              "income_per_day     0\n",
              "ID                 0\n",
              "dtype: int64"
            ]
          },
          "metadata": {},
          "execution_count": 65
        }
      ]
    },
    {
      "cell_type": "code",
      "source": [
        "train.info()"
      ],
      "metadata": {
        "colab": {
          "base_uri": "https://localhost:8080/"
        },
        "id": "DKIlm9TrEtPK",
        "outputId": "43811b14-a499-4d52-af65-289f0bf60424"
      },
      "execution_count": 52,
      "outputs": [
        {
          "output_type": "stream",
          "name": "stdout",
          "text": [
            "<class 'pandas.core.frame.DataFrame'>\n",
            "RangeIndex: 26453 entries, 0 to 26452\n",
            "Data columns (total 23 columns):\n",
            " #   Column           Non-Null Count  Dtype  \n",
            "---  ------           --------------  -----  \n",
            " 0   gender           26453 non-null  int64  \n",
            " 1   car              26453 non-null  int64  \n",
            " 2   reality          26453 non-null  int64  \n",
            " 3   child_num        26453 non-null  int64  \n",
            " 4   income_total     26453 non-null  float64\n",
            " 5   income_type      26453 non-null  int64  \n",
            " 6   edu_type         26453 non-null  int64  \n",
            " 7   family_type      26453 non-null  int64  \n",
            " 8   house_type       26453 non-null  int64  \n",
            " 9   work_phone       26453 non-null  int64  \n",
            " 10  phone            26453 non-null  int64  \n",
            " 11  email            26453 non-null  int64  \n",
            " 12  occyp_type       26453 non-null  int64  \n",
            " 13  begin_month      26453 non-null  float64\n",
            " 14  credit           26453 non-null  float64\n",
            " 15  YEARS_EMPLOYED   26453 non-null  int64  \n",
            " 16  MONTHS_EMPLOYED  26453 non-null  float64\n",
            " 17  WEEKS_EMPLOYED   26453 non-null  float64\n",
            " 18  age              26453 non-null  int64  \n",
            " 19  per_income       26453 non-null  float64\n",
            " 20  age_work         26453 non-null  int64  \n",
            " 21  income_per_day   26453 non-null  float64\n",
            " 22  ID               26453 non-null  int64  \n",
            "dtypes: float64(7), int64(16)\n",
            "memory usage: 4.6 MB\n"
          ]
        }
      ]
    },
    {
      "cell_type": "code",
      "source": [
        "# 학습 데이터셋에서 피처와 타겟 데이터셋 분리\n",
        "train_x = train.drop('credit', axis=1)\n",
        "train_y = train['credit']\n",
        "test_x = test"
      ],
      "metadata": {
        "id": "gWxmoN8B5GlB"
      },
      "execution_count": 81,
      "outputs": []
    },
    {
      "cell_type": "code",
      "source": [
        "train_x.ID.value_counts()"
      ],
      "metadata": {
        "colab": {
          "base_uri": "https://localhost:8080/"
        },
        "id": "E_spAQoBQxf7",
        "outputId": "c7de3069-11ba-4669-ec3d-b8432a8313d0"
      },
      "execution_count": 69,
      "outputs": [
        {
          "output_type": "execute_result",
          "data": {
            "text/plain": [
              "2274    35\n",
              "7423    24\n",
              "1054    24\n",
              "8725    21\n",
              "5079    20\n",
              "        ..\n",
              "878      1\n",
              "3222     1\n",
              "5584     1\n",
              "2660     1\n",
              "3764     1\n",
              "Name: ID, Length: 8746, dtype: int64"
            ]
          },
          "metadata": {},
          "execution_count": 69
        }
      ]
    },
    {
      "cell_type": "markdown",
      "source": [
        "## **모델 학습**\n"
      ],
      "metadata": {
        "id": "oqeyI0qmScpc"
      }
    },
    {
      "cell_type": "code",
      "source": [
        "n_est = 2000\n",
        "seed = 42\n",
        "n_fold = 14\n",
        "n_class = 3"
      ],
      "metadata": {
        "id": "mGcPpWXl9R7b"
      },
      "execution_count": 82,
      "outputs": []
    },
    {
      "cell_type": "code",
      "source": [
        "skfold = StratifiedKFold(n_splits=n_fold, shuffle=True, random_state=seed)\n",
        "folds=[]\n",
        "for train_idx, valid_idx in skfold.split(train_x, train_y):\n",
        "        folds.append((train_idx, valid_idx))\n",
        "\n",
        "cat_pred = np.zeros((train_x.shape[0], n_class))\n",
        "cat_pred_test = np.zeros((test_x.shape[0], n_class))\n",
        "cat_cols = ['income_type', 'edu_type', 'family_type', 'house_type', 'occyp_type', 'ID']\n",
        "for fold in range(n_fold):\n",
        "  print(f'\\n----------------- Fold {fold} -----------------\\n')\n",
        "  train_idx, valid_idx = folds[fold]\n",
        "  X_train, X_valid, y_train, y_valid = train_x.iloc[train_idx], train_x.iloc[valid_idx], train_y[train_idx], train_y[valid_idx]\n",
        "  train_data = Pool(data=X_train, label=y_train, cat_features=cat_cols)\n",
        "  valid_data = Pool(data=X_valid, label=y_valid, cat_features=cat_cols)\n",
        "\n",
        "  model_cat = CatBoostClassifier()\n",
        "  model_cat.fit(train_data, eval_set=valid_data, use_best_model=True, early_stopping_rounds=100, verbose=100)\n",
        "  \n",
        "  cat_pred[valid_idx] = model_cat.predict_proba(X_valid)\n",
        "  cat_pred_test += model_cat.predict_proba(test_x) / n_fold\n",
        "  print(f'CV Log Loss Score: {log_loss(y_valid, cat_pred[valid_idx]):.6f}')\n",
        "    \n",
        "print(f'\\tLog Loss: {log_loss(train_y, cat_pred):.6f}')"
      ],
      "metadata": {
        "colab": {
          "base_uri": "https://localhost:8080/"
        },
        "id": "LvG3dhZR9Sbx",
        "outputId": "397080b1-d9f3-411a-ed51-cf29bc321953"
      },
      "execution_count": 83,
      "outputs": [
        {
          "output_type": "stream",
          "name": "stdout",
          "text": [
            "\n",
            "----------------- Fold 0 -----------------\n",
            "\n",
            "Learning rate set to 0.115115\n",
            "0:\tlearn: 1.0359415\ttest: 1.0330556\tbest: 1.0330556 (0)\ttotal: 132ms\tremaining: 2m 11s\n",
            "100:\tlearn: 0.7087396\ttest: 0.6401799\tbest: 0.6400909 (99)\ttotal: 10.5s\tremaining: 1m 33s\n",
            "200:\tlearn: 0.6902006\ttest: 0.6374860\tbest: 0.6374753 (167)\ttotal: 22.5s\tremaining: 1m 29s\n",
            "300:\tlearn: 0.6755607\ttest: 0.6389590\tbest: 0.6372796 (231)\ttotal: 34.5s\tremaining: 1m 20s\n",
            "Stopped by overfitting detector  (100 iterations wait)\n",
            "\n",
            "bestTest = 0.6372795943\n",
            "bestIteration = 231\n",
            "\n",
            "Shrink model to first 232 iterations.\n",
            "CV Log Loss Score: 0.637280\n",
            "\n",
            "----------------- Fold 1 -----------------\n",
            "\n",
            "Learning rate set to 0.115115\n",
            "0:\tlearn: 1.0354698\ttest: 1.0346907\tbest: 1.0346907 (0)\ttotal: 124ms\tremaining: 2m 3s\n",
            "100:\tlearn: 0.7050402\ttest: 0.6775372\tbest: 0.6775240 (89)\ttotal: 12.3s\tremaining: 1m 49s\n",
            "200:\tlearn: 0.6867526\ttest: 0.6763472\tbest: 0.6761498 (195)\ttotal: 25.2s\tremaining: 1m 39s\n",
            "300:\tlearn: 0.6692414\ttest: 0.6767813\tbest: 0.6759300 (215)\ttotal: 37.2s\tremaining: 1m 26s\n",
            "Stopped by overfitting detector  (100 iterations wait)\n",
            "\n",
            "bestTest = 0.6759299658\n",
            "bestIteration = 215\n",
            "\n",
            "Shrink model to first 216 iterations.\n",
            "CV Log Loss Score: 0.675930\n",
            "\n",
            "----------------- Fold 2 -----------------\n",
            "\n",
            "Learning rate set to 0.115115\n",
            "0:\tlearn: 1.0353788\ttest: 1.0360070\tbest: 1.0360070 (0)\ttotal: 131ms\tremaining: 2m 11s\n",
            "100:\tlearn: 0.7074921\ttest: 0.6581692\tbest: 0.6581692 (100)\ttotal: 10.1s\tremaining: 1m 30s\n",
            "200:\tlearn: 0.6895912\ttest: 0.6557080\tbest: 0.6557080 (200)\ttotal: 22.1s\tremaining: 1m 27s\n",
            "300:\tlearn: 0.6729075\ttest: 0.6565024\tbest: 0.6556429 (209)\ttotal: 34s\tremaining: 1m 18s\n",
            "Stopped by overfitting detector  (100 iterations wait)\n",
            "\n",
            "bestTest = 0.6556429337\n",
            "bestIteration = 209\n",
            "\n",
            "Shrink model to first 210 iterations.\n",
            "CV Log Loss Score: 0.655643\n",
            "\n",
            "----------------- Fold 3 -----------------\n",
            "\n",
            "Learning rate set to 0.115115\n",
            "0:\tlearn: 1.0354203\ttest: 1.0359280\tbest: 1.0359280 (0)\ttotal: 145ms\tremaining: 2m 24s\n",
            "100:\tlearn: 0.7073196\ttest: 0.6444519\tbest: 0.6444519 (100)\ttotal: 10.3s\tremaining: 1m 31s\n",
            "200:\tlearn: 0.6896516\ttest: 0.6396182\tbest: 0.6395468 (197)\ttotal: 22.2s\tremaining: 1m 28s\n",
            "300:\tlearn: 0.6727112\ttest: 0.6365320\tbest: 0.6365050 (298)\ttotal: 34.3s\tremaining: 1m 19s\n",
            "400:\tlearn: 0.6567180\ttest: 0.6370449\tbest: 0.6361006 (309)\ttotal: 46.7s\tremaining: 1m 9s\n",
            "Stopped by overfitting detector  (100 iterations wait)\n",
            "\n",
            "bestTest = 0.6361005766\n",
            "bestIteration = 309\n",
            "\n",
            "Shrink model to first 310 iterations.\n",
            "CV Log Loss Score: 0.636101\n",
            "\n",
            "----------------- Fold 4 -----------------\n",
            "\n",
            "Learning rate set to 0.115115\n",
            "0:\tlearn: 1.0353835\ttest: 1.0357550\tbest: 1.0357550 (0)\ttotal: 131ms\tremaining: 2m 10s\n",
            "100:\tlearn: 0.7048955\ttest: 0.6713802\tbest: 0.6713802 (100)\ttotal: 10.7s\tremaining: 1m 35s\n",
            "200:\tlearn: 0.6865058\ttest: 0.6709934\tbest: 0.6701686 (176)\ttotal: 22.5s\tremaining: 1m 29s\n",
            "Stopped by overfitting detector  (100 iterations wait)\n",
            "\n",
            "bestTest = 0.6701686225\n",
            "bestIteration = 176\n",
            "\n",
            "Shrink model to first 177 iterations.\n",
            "CV Log Loss Score: 0.670169\n",
            "\n",
            "----------------- Fold 5 -----------------\n",
            "\n",
            "Learning rate set to 0.115115\n",
            "0:\tlearn: 1.0357040\ttest: 1.0346195\tbest: 1.0346195 (0)\ttotal: 126ms\tremaining: 2m 5s\n",
            "100:\tlearn: 0.7058332\ttest: 0.6564284\tbest: 0.6564284 (100)\ttotal: 10.5s\tremaining: 1m 33s\n",
            "200:\tlearn: 0.6889472\ttest: 0.6528858\tbest: 0.6527883 (191)\ttotal: 22.4s\tremaining: 1m 28s\n",
            "300:\tlearn: 0.6742789\ttest: 0.6522182\tbest: 0.6520378 (294)\ttotal: 34.5s\tremaining: 1m 20s\n",
            "400:\tlearn: 0.6593023\ttest: 0.6527177\tbest: 0.6519629 (323)\ttotal: 46.4s\tremaining: 1m 9s\n",
            "Stopped by overfitting detector  (100 iterations wait)\n",
            "\n",
            "bestTest = 0.6519628867\n",
            "bestIteration = 323\n",
            "\n",
            "Shrink model to first 324 iterations.\n",
            "CV Log Loss Score: 0.651963\n",
            "\n",
            "----------------- Fold 6 -----------------\n",
            "\n",
            "Learning rate set to 0.115115\n",
            "0:\tlearn: 1.0354446\ttest: 1.0361888\tbest: 1.0361888 (0)\ttotal: 140ms\tremaining: 2m 19s\n",
            "100:\tlearn: 0.7046015\ttest: 0.6843675\tbest: 0.6841807 (99)\ttotal: 10.6s\tremaining: 1m 34s\n",
            "200:\tlearn: 0.6869755\ttest: 0.6821483\tbest: 0.6821483 (200)\ttotal: 22.5s\tremaining: 1m 29s\n",
            "300:\tlearn: 0.6715421\ttest: 0.6836554\tbest: 0.6820166 (203)\ttotal: 34.6s\tremaining: 1m 20s\n",
            "Stopped by overfitting detector  (100 iterations wait)\n",
            "\n",
            "bestTest = 0.6820165643\n",
            "bestIteration = 203\n",
            "\n",
            "Shrink model to first 204 iterations.\n",
            "CV Log Loss Score: 0.682017\n",
            "\n",
            "----------------- Fold 7 -----------------\n",
            "\n",
            "Learning rate set to 0.115116\n",
            "0:\tlearn: 1.0337012\ttest: 1.0350860\tbest: 1.0350860 (0)\ttotal: 136ms\tremaining: 2m 16s\n",
            "100:\tlearn: 0.7041355\ttest: 0.6770955\tbest: 0.6770955 (100)\ttotal: 10.5s\tremaining: 1m 33s\n",
            "200:\tlearn: 0.6867056\ttest: 0.6768998\tbest: 0.6761633 (133)\ttotal: 22.7s\tremaining: 1m 30s\n",
            "Stopped by overfitting detector  (100 iterations wait)\n",
            "\n",
            "bestTest = 0.6761632745\n",
            "bestIteration = 133\n",
            "\n",
            "Shrink model to first 134 iterations.\n",
            "CV Log Loss Score: 0.676163\n",
            "\n",
            "----------------- Fold 8 -----------------\n",
            "\n",
            "Learning rate set to 0.115116\n",
            "0:\tlearn: 1.0353097\ttest: 1.0359500\tbest: 1.0359500 (0)\ttotal: 41.8ms\tremaining: 41.8s\n",
            "100:\tlearn: 0.7046359\ttest: 0.6825796\tbest: 0.6824871 (97)\ttotal: 10.3s\tremaining: 1m 31s\n",
            "200:\tlearn: 0.6880236\ttest: 0.6814527\tbest: 0.6813582 (193)\ttotal: 22.4s\tremaining: 1m 28s\n",
            "300:\tlearn: 0.6728977\ttest: 0.6807577\tbest: 0.6806385 (280)\ttotal: 34.2s\tremaining: 1m 19s\n",
            "400:\tlearn: 0.6583254\ttest: 0.6814620\tbest: 0.6804506 (311)\ttotal: 46.4s\tremaining: 1m 9s\n",
            "Stopped by overfitting detector  (100 iterations wait)\n",
            "\n",
            "bestTest = 0.6804506367\n",
            "bestIteration = 311\n",
            "\n",
            "Shrink model to first 312 iterations.\n",
            "CV Log Loss Score: 0.680451\n",
            "\n",
            "----------------- Fold 9 -----------------\n",
            "\n",
            "Learning rate set to 0.115116\n",
            "0:\tlearn: 1.0356936\ttest: 1.0346673\tbest: 1.0346673 (0)\ttotal: 141ms\tremaining: 2m 20s\n",
            "100:\tlearn: 0.7084429\ttest: 0.6586417\tbest: 0.6586417 (100)\ttotal: 10.6s\tremaining: 1m 34s\n",
            "200:\tlearn: 0.6901957\ttest: 0.6560934\tbest: 0.6560934 (200)\ttotal: 22.6s\tremaining: 1m 29s\n",
            "300:\tlearn: 0.6743031\ttest: 0.6561550\tbest: 0.6555899 (242)\ttotal: 34.5s\tremaining: 1m 20s\n",
            "Stopped by overfitting detector  (100 iterations wait)\n",
            "\n",
            "bestTest = 0.655589933\n",
            "bestIteration = 242\n",
            "\n",
            "Shrink model to first 243 iterations.\n",
            "CV Log Loss Score: 0.655590\n",
            "\n",
            "----------------- Fold 10 -----------------\n",
            "\n",
            "Learning rate set to 0.115116\n",
            "0:\tlearn: 1.0347537\ttest: 1.0351275\tbest: 1.0351275 (0)\ttotal: 146ms\tremaining: 2m 25s\n",
            "100:\tlearn: 0.7042869\ttest: 0.6804865\tbest: 0.6803535 (97)\ttotal: 10.6s\tremaining: 1m 34s\n",
            "200:\tlearn: 0.6870725\ttest: 0.6801834\tbest: 0.6796957 (112)\ttotal: 22.6s\tremaining: 1m 29s\n",
            "Stopped by overfitting detector  (100 iterations wait)\n",
            "\n",
            "bestTest = 0.6796956552\n",
            "bestIteration = 112\n",
            "\n",
            "Shrink model to first 113 iterations.\n",
            "CV Log Loss Score: 0.679696\n",
            "\n",
            "----------------- Fold 11 -----------------\n",
            "\n",
            "Learning rate set to 0.115116\n",
            "0:\tlearn: 1.0336831\ttest: 1.0352324\tbest: 1.0352324 (0)\ttotal: 129ms\tremaining: 2m 9s\n",
            "100:\tlearn: 0.7056408\ttest: 0.6730208\tbest: 0.6730208 (100)\ttotal: 10.6s\tremaining: 1m 34s\n",
            "200:\tlearn: 0.6890497\ttest: 0.6713660\tbest: 0.6712207 (169)\ttotal: 22.6s\tremaining: 1m 29s\n",
            "300:\tlearn: 0.6755919\ttest: 0.6717385\tbest: 0.6708684 (224)\ttotal: 34.8s\tremaining: 1m 20s\n",
            "Stopped by overfitting detector  (100 iterations wait)\n",
            "\n",
            "bestTest = 0.6708684107\n",
            "bestIteration = 224\n",
            "\n",
            "Shrink model to first 225 iterations.\n",
            "CV Log Loss Score: 0.670868\n",
            "\n",
            "----------------- Fold 12 -----------------\n",
            "\n",
            "Learning rate set to 0.115116\n",
            "0:\tlearn: 1.0340850\ttest: 1.0327386\tbest: 1.0327386 (0)\ttotal: 140ms\tremaining: 2m 19s\n",
            "100:\tlearn: 0.7053515\ttest: 0.6635552\tbest: 0.6635552 (100)\ttotal: 10.4s\tremaining: 1m 32s\n",
            "200:\tlearn: 0.6894236\ttest: 0.6620492\tbest: 0.6620118 (197)\ttotal: 22.3s\tremaining: 1m 28s\n",
            "300:\tlearn: 0.6754613\ttest: 0.6620976\tbest: 0.6615121 (250)\ttotal: 34.5s\tremaining: 1m 20s\n",
            "Stopped by overfitting detector  (100 iterations wait)\n",
            "\n",
            "bestTest = 0.6615120953\n",
            "bestIteration = 250\n",
            "\n",
            "Shrink model to first 251 iterations.\n",
            "CV Log Loss Score: 0.661512\n",
            "\n",
            "----------------- Fold 13 -----------------\n",
            "\n",
            "Learning rate set to 0.115116\n",
            "0:\tlearn: 1.0340248\ttest: 1.0331232\tbest: 1.0331232 (0)\ttotal: 139ms\tremaining: 2m 19s\n",
            "100:\tlearn: 0.7044696\ttest: 0.6873576\tbest: 0.6869142 (94)\ttotal: 10.5s\tremaining: 1m 33s\n",
            "200:\tlearn: 0.6871020\ttest: 0.6852919\tbest: 0.6852919 (200)\ttotal: 22.4s\tremaining: 1m 28s\n",
            "300:\tlearn: 0.6716983\ttest: 0.6856898\tbest: 0.6852459 (204)\ttotal: 34.4s\tremaining: 1m 19s\n",
            "Stopped by overfitting detector  (100 iterations wait)\n",
            "\n",
            "bestTest = 0.6852458882\n",
            "bestIteration = 204\n",
            "\n",
            "Shrink model to first 205 iterations.\n",
            "CV Log Loss Score: 0.685246\n",
            "\tLog Loss: 0.665614\n"
          ]
        }
      ]
    },
    {
      "cell_type": "markdown",
      "source": [
        "### **Feature Importance**"
      ],
      "metadata": {
        "id": "SRzgOovyXx19"
      }
    },
    {
      "cell_type": "code",
      "source": [
        "def plot_feature_importance(importance,names,model_type):\n",
        "    \n",
        "    feature_importance = np.array(importance)\n",
        "    feature_names = np.array(names)\n",
        "    \n",
        "    data={'feature_names':feature_names,'feature_importance':feature_importance}\n",
        "    fi_df = pd.DataFrame(data)\n",
        "    \n",
        "    fi_df.sort_values(by=['feature_importance'], ascending=False,inplace=True)\n",
        "\n",
        "    plt.figure(figsize=(10,8))\n",
        "\n",
        "    sns.barplot(x=fi_df['feature_importance'], y=fi_df['feature_names'])\n",
        "\n",
        "    plt.title(model_type + ' Feature Importance')\n",
        "    plt.xlabel('Feature Importance')\n",
        "    plt.ylabel('Feature Names')"
      ],
      "metadata": {
        "id": "TisdZJq9XmB4"
      },
      "execution_count": 88,
      "outputs": []
    },
    {
      "cell_type": "code",
      "source": [
        "plot_feature_importance(model_cat.get_feature_importance(),test_x.columns,'CATBOOST')"
      ],
      "metadata": {
        "colab": {
          "base_uri": "https://localhost:8080/",
          "height": 513
        },
        "id": "kliFNP5BXmr3",
        "outputId": "aa95906e-eb50-415a-e386-785f8201a1c1"
      },
      "execution_count": 89,
      "outputs": [
        {
          "output_type": "display_data",
          "data": {
            "text/plain": [
              "<Figure size 720x576 with 1 Axes>"
            ],
            "image/png": "[encoded data removed]"
          },
          "metadata": {
            "needs_background": "light"
          }
        }
      ]
    },
    {
      "cell_type": "markdown",
      "source": [
        "### **학습 곡선**"
      ],
      "metadata": {
        "id": "1loCLiwITeES"
      }
    },
    {
      "cell_type": "code",
      "source": [
        "from sklearn.model_selection import GridSearchCV, cross_val_score, StratifiedKFold, learning_curve\n",
        "\n",
        "def plot_learning_curve(estimator, title, X, y, ylim=None, cv=None,\n",
        "                        n_jobs=-1, train_sizes=np.linspace(.1,1.0,5)):\n",
        "  plt.figure()\n",
        "  plt.title(title)\n",
        "  if ylim is not None:\n",
        "    plt.ylim(*ylim)\n",
        "  plt.xlabel(\"Training examples\")\n",
        "  plt.ylabel(\"Score\")\n",
        "  train_sizes, train_scores, test_scores = learning_curve(\n",
        "      estimator, X, y, cv=cv, n_jobs=n_jobs, train_sizes=train_sizes\n",
        "  )\n",
        "  train_scores_mean = np.mean(train_scores, axis=1)\n",
        "  train_scores_std = np.std(train_scores, axis=1)\n",
        "  test_scores_mean = np.mean(test_scores, axis=1)\n",
        "  test_scores_std = np.std(test_scores, axis=1)\n",
        "  plt.grid()\n",
        "\n",
        "  # 그래프 사이의 공간 색칠\n",
        "  plt.fill_between(train_sizes, train_scores_mean - train_scores_std,\n",
        "                   train_scores_mean + train_scores_std, alpha=0.1, color='r')\n",
        "  plt.fill_between(train_sizes, test_scores_mean - test_scores_std,\n",
        "                   test_scores_mean + test_scores_std, alpha=0.1, color='r')\n",
        "  plt.plot(train_sizes, train_scores_mean, 'o-', color=\"r\",\n",
        "           label = \"Training score\")\n",
        "  plt.plot(train_sizes, test_scores_mean, 'o-', color=\"g\",\n",
        "           label = \"Cross-validation score\")\n",
        "  plt.legend(loc='best')\n",
        "  return plt"
      ],
      "metadata": {
        "id": "YOi02Dbm9_Ns"
      },
      "execution_count": 90,
      "outputs": []
    },
    {
      "cell_type": "code",
      "source": [
        "g = plot_learning_curve(model_cat,\"Catboost learning curves\",X_train,y_train, cv=5)"
      ],
      "metadata": {
        "id": "VK2tw7jb-IUW"
      },
      "execution_count": null,
      "outputs": []
    },
    {
      "cell_type": "markdown",
      "source": [
        "## **최종 제출 파일 생성**"
      ],
      "metadata": {
        "id": "3piSh1G3T2pG"
      }
    },
    {
      "cell_type": "code",
      "source": [
        "submission = pd.read_csv('/content/drive/MyDrive/ESAA 2학기 /프로젝트(1)/데이터/sample_submission.csv')"
      ],
      "metadata": {
        "id": "yjIM13SRmJqG"
      },
      "execution_count": 84,
      "outputs": []
    },
    {
      "cell_type": "code",
      "source": [
        "submission.loc[:,1:] = cat_pred_test"
      ],
      "metadata": {
        "id": "xG6U7U_c5l8F"
      },
      "execution_count": 85,
      "outputs": []
    },
    {
      "cell_type": "code",
      "source": [
        "submission"
      ],
      "metadata": {
        "colab": {
          "base_uri": "https://localhost:8080/",
          "height": 424
        },
        "id": "aTzfFqANIXOQ",
        "outputId": "a69903ef-8103-446d-9e02-357520f020dd"
      },
      "execution_count": 86,
      "outputs": [
        {
          "output_type": "execute_result",
          "data": {
            "text/plain": [
              "      index         0         1         2\n",
              "0     26457  0.184257  0.204713  0.611030\n",
              "1     26458  0.067609  0.094286  0.838106\n",
              "2     26459  0.064474  0.096279  0.839247\n",
              "3     26460  0.046809  0.079619  0.873572\n",
              "4     26461  0.061656  0.140443  0.797901\n",
              "...     ...       ...       ...       ...\n",
              "9995  36452  0.038596  0.807166  0.154239\n",
              "9996  36453  0.069405  0.453475  0.477121\n",
              "9997  36454  0.047424  0.081223  0.871353\n",
              "9998  36455  0.054857  0.074477  0.870666\n",
              "9999  36456  0.034580  0.839938  0.125482\n",
              "\n",
              "[10000 rows x 4 columns]"
            ],
            "text/html": [
              "\n",
              "  <div id=\"df-a9dcc8fc-c335-4c25-b2cd-39f798c71b6c\">\n",
              "    <div class=\"colab-df-container\">\n",
              "      <div>\n",
              "<style scoped>\n",
              "    .dataframe tbody tr th:only-of-type {\n",
              "        vertical-align: middle;\n",
              "    }\n",
              "\n",
              "    .dataframe tbody tr th {\n",
              "        vertical-align: top;\n",
              "    }\n",
              "\n",
              "    .dataframe thead th {\n",
              "        text-align: right;\n",
              "    }\n",
              "</style>\n",
              "<table border=\"1\" class=\"dataframe\">\n",
              "  <thead>\n",
              "    <tr style=\"text-align: right;\">\n",
              "      <th></th>\n",
              "      <th>index</th>\n",
              "      <th>0</th>\n",
              "      <th>1</th>\n",
              "      <th>2</th>\n",
              "    </tr>\n",
              "  </thead>\n",
              "  <tbody>\n",
              "    <tr>\n",
              "      <th>0</th>\n",
              "      <td>26457</td>\n",
              "      <td>0.184257</td>\n",
              "      <td>0.204713</td>\n",
              "      <td>0.611030</td>\n",
              "    </tr>\n",
              "    <tr>\n",
              "      <th>1</th>\n",
              "      <td>26458</td>\n",
              "      <td>0.067609</td>\n",
              "      <td>0.094286</td>\n",
              "      <td>0.838106</td>\n",
              "    </tr>\n",
              "    <tr>\n",
              "      <th>2</th>\n",
              "      <td>26459</td>\n",
              "      <td>0.064474</td>\n",
              "      <td>0.096279</td>\n",
              "      <td>0.839247</td>\n",
              "    </tr>\n",
              "    <tr>\n",
              "      <th>3</th>\n",
              "      <td>26460</td>\n",
              "      <td>0.046809</td>\n",
              "      <td>0.079619</td>\n",
              "      <td>0.873572</td>\n",
              "    </tr>\n",
              "    <tr>\n",
              "      <th>4</th>\n",
              "      <td>26461</td>\n",
              "      <td>0.061656</td>\n",
              "      <td>0.140443</td>\n",
              "      <td>0.797901</td>\n",
              "    </tr>\n",
              "    <tr>\n",
              "      <th>...</th>\n",
              "      <td>...</td>\n",
              "      <td>...</td>\n",
              "      <td>...</td>\n",
              "      <td>...</td>\n",
              "    </tr>\n",
              "    <tr>\n",
              "      <th>9995</th>\n",
              "      <td>36452</td>\n",
              "      <td>0.038596</td>\n",
              "      <td>0.807166</td>\n",
              "      <td>0.154239</td>\n",
              "    </tr>\n",
              "    <tr>\n",
              "      <th>9996</th>\n",
              "      <td>36453</td>\n",
              "      <td>0.069405</td>\n",
              "      <td>0.453475</td>\n",
              "      <td>0.477121</td>\n",
              "    </tr>\n",
              "    <tr>\n",
              "      <th>9997</th>\n",
              "      <td>36454</td>\n",
              "      <td>0.047424</td>\n",
              "      <td>0.081223</td>\n",
              "      <td>0.871353</td>\n",
              "    </tr>\n",
              "    <tr>\n",
              "      <th>9998</th>\n",
              "      <td>36455</td>\n",
              "      <td>0.054857</td>\n",
              "      <td>0.074477</td>\n",
              "      <td>0.870666</td>\n",
              "    </tr>\n",
              "    <tr>\n",
              "      <th>9999</th>\n",
              "      <td>36456</td>\n",
              "      <td>0.034580</td>\n",
              "      <td>0.839938</td>\n",
              "      <td>0.125482</td>\n",
              "    </tr>\n",
              "  </tbody>\n",
              "</table>\n",
              "<p>10000 rows × 4 columns</p>\n",
              "</div>\n",
              "      <button class=\"colab-df-convert\" onclick=\"convertToInteractive('df-a9dcc8fc-c335-4c25-b2cd-39f798c71b6c')\"\n",
              "              title=\"Convert this dataframe to an interactive table.\"\n",
              "              style=\"display:none;\">\n",
              "        \n",
              "  <svg xmlns=\"http://www.w3.org/2000/svg\" height=\"24px\"viewBox=\"0 0 24 24\"\n",
              "       width=\"24px\">\n",
              "    <path d=\"M0 0h24v24H0V0z\" fill=\"none\"/>\n",
              "    <path d=\"M18.56 5.44l.94 2.06.94-2.06 2.06-.94-2.06-.94-.94-2.06-.94 2.06-2.06.94zm-11 1L8.5 8.5l.94-2.06 2.06-.94-2.06-.94L8.5 2.5l-.94 2.06-2.06.94zm10 10l.94 2.06.94-2.06 2.06-.94-2.06-.94-.94-2.06-.94 2.06-2.06.94z\"/><path d=\"M17.41 7.96l-1.37-1.37c-.4-.4-.92-.59-1.43-.59-.52 0-1.04.2-1.43.59L10.3 9.45l-7.72 7.72c-.78.78-.78 2.05 0 2.83L4 21.41c.39.39.9.59 1.41.59.51 0 1.02-.2 1.41-.59l7.78-7.78 2.81-2.81c.8-.78.8-2.07 0-2.86zM5.41 20L4 18.59l7.72-7.72 1.47 1.35L5.41 20z\"/>\n",
              "  </svg>\n",
              "      </button>\n",
              "      \n",
              "  <style>\n",
              "    .colab-df-container {\n",
              "      display:flex;\n",
              "      flex-wrap:wrap;\n",
              "      gap: 12px;\n",
              "    }\n",
              "\n",
              "    .colab-df-convert {\n",
              "      background-color: #E8F0FE;\n",
              "      border: none;\n",
              "      border-radius: 50%;\n",
              "      cursor: pointer;\n",
              "      display: none;\n",
              "      fill: #1967D2;\n",
              "      height: 32px;\n",
              "      padding: 0 0 0 0;\n",
              "      width: 32px;\n",
              "    }\n",
              "\n",
              "    .colab-df-convert:hover {\n",
              "      background-color: #E2EBFA;\n",
              "      box-shadow: 0px 1px 2px rgba(60, 64, 67, 0.3), 0px 1px 3px 1px rgba(60, 64, 67, 0.15);\n",
              "      fill: #174EA6;\n",
              "    }\n",
              "\n",
              "    [theme=dark] .colab-df-convert {\n",
              "      background-color: #3B4455;\n",
              "      fill: #D2E3FC;\n",
              "    }\n",
              "\n",
              "    [theme=dark] .colab-df-convert:hover {\n",
              "      background-color: #434B5C;\n",
              "      box-shadow: 0px 1px 3px 1px rgba(0, 0, 0, 0.15);\n",
              "      filter: drop-shadow(0px 1px 2px rgba(0, 0, 0, 0.3));\n",
              "      fill: #FFFFFF;\n",
              "    }\n",
              "  </style>\n",
              "\n",
              "      <script>\n",
              "        const buttonEl =\n",
              "          document.querySelector('#df-a9dcc8fc-c335-4c25-b2cd-39f798c71b6c button.colab-df-convert');\n",
              "        buttonEl.style.display =\n",
              "          google.colab.kernel.accessAllowed ? 'block' : 'none';\n",
              "\n",
              "        async function convertToInteractive(key) {\n",
              "          const element = document.querySelector('#df-a9dcc8fc-c335-4c25-b2cd-39f798c71b6c');\n",
              "          const dataTable =\n",
              "            await google.colab.kernel.invokeFunction('convertToInteractive',\n",
              "                                                     [key], {});\n",
              "          if (!dataTable) return;\n",
              "\n",
              "          const docLinkHtml = 'Like what you see? Visit the ' +\n",
              "            '<a target=\"_blank\" href=https://colab.research.google.com/notebooks/data_table.ipynb>data table notebook</a>'\n",
              "            + ' to learn more about interactive tables.';\n",
              "          element.innerHTML = '';\n",
              "          dataTable['output_type'] = 'display_data';\n",
              "          await google.colab.output.renderOutput(dataTable, element);\n",
              "          const docLink = document.createElement('div');\n",
              "          docLink.innerHTML = docLinkHtml;\n",
              "          element.appendChild(docLink);\n",
              "        }\n",
              "      </script>\n",
              "    </div>\n",
              "  </div>\n",
              "  "
            ]
          },
          "metadata": {},
          "execution_count": 86
        }
      ]
    },
    {
      "cell_type": "code",
      "source": [
        "submission.to_csv('my_submission_cat_1005.csv', index=False)"
      ],
      "metadata": {
        "id": "eJ38j0uU9HIj"
      },
      "execution_count": 87,
      "outputs": []
    }
  ]
}